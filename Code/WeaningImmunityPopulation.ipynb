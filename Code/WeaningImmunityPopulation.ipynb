{
 "cells": [
  {
   "cell_type": "code",
   "execution_count": null,
   "metadata": {},
   "outputs": [
    {
     "name": "stdout",
     "output_type": "stream",
     "text": [
      "0.02\n",
      "0.02\n",
      "0.02\n"
     ]
    }
   ],
   "source": [
    "import numpy as np\n",
    "import pandas as pd\n",
    "import multiprocessing as mp\n",
    "#** N is the number of nodes in the network; hardcoded\n",
    "N = 7688059\n",
    "# day is number of simulation day in the EpiHiper Output\n",
    "day = 1001\n",
    "\n",
    "#** repli is number of replicate in the EpiHiper output\n",
    "\n",
    "repli = 60\n",
    "\n",
    "#** defining state in the disease model\n",
    "S = 1  #** susceptible node state\n",
    "var1E = 2 #** variant-1 exposed node state\n",
    "var1Isymp = 3 #** variant-1 symptomatic infected node state\n",
    "var1Iasymp = 4 #** variant-1 asymptomatic infected node state\n",
    "var2E = 5 #** variant-2 exposed node state\n",
    "var2Isymp = 6 #** variant-1 symptomatic infected node state\n",
    "var2Iasymp = 7 #**variant-1 asymptomatic infected node state\n",
    "var1R=8\n",
    "var2R=9\n",
    "var1var2E=10\n",
    "var1var2Isymp=11\n",
    "var1var2Iasymp=12\n",
    "var2var1E=13\n",
    "var2var1Isymp=14\n",
    "var2var1Iasymp=15\n",
    "R = 16 #** recoverd state\n",
    "\n",
    "\n",
    "tau = np.array([0.02,0.03])\n",
    "seedLoc=np.array([51, 51059, 51121])\n",
    "emergenceDay=np.array([90, 120, 150])\n",
    "crossImmu=np.array([0.25, 0.5, 0.75, 1])\n",
    "newVar = 1.4 #** relative transmisibility of new variant\n",
    "\n",
    "colNames=[\"tau\",\"seedLoc\",\"emergenceDay\",\"crossImmu\",\"repli\",'tick', 'S[current]',\n",
    "       'S[in]', 'S[out]', 'var1R[current]', 'var1R[in]', 'var1R[out]',\n",
    "       'var2R[current]', 'var2R[in]', 'var2R[out]', 'var1E[current]',\n",
    "       'var1E[in]', 'var1E[out]', 'var1Isymp[current]', 'var1Isymp[in]',\n",
    "       'var1Isymp[out]', 'var1Iasymp[current]', 'var1Iasymp[in]',\n",
    "       'var1Iasymp[out]', 'var2E[current]', 'var2E[in]', 'var2E[out]',\n",
    "       'var2Isymp[current]', 'var2Isymp[in]', 'var2Isymp[out]',\n",
    "       'var2Iasymp[current]', 'var2Iasymp[in]', 'var2Iasymp[out]',\n",
    "       'var1var2E[current]', 'var1var2E[in]', 'var1var2E[out]',\n",
    "       'var1var2Isymp[current]', 'var1var2Isymp[in]', 'var1var2Isymp[out]',\n",
    "       'var1var2Iasymp[current]', 'var1var2Iasymp[in]', 'var1var2Iasymp[out]',\n",
    "       'var2var1E[current]', 'var2var1E[in]', 'var2var1E[out]',\n",
    "       'var2var1Isymp[current]', 'var2var1Isymp[in]', 'var2var1Isymp[out]',\n",
    "       'var2var1Iasymp[current]', 'var2var1Iasymp[in]', 'var2var1Iasymp[out]',\n",
    "       'R[current]', 'R[in]', 'R[out]','V1SV1', 'V1SV2', 'V2SV1','V2SV2']\n",
    "dpSummaryCombine=pd.DataFrame(columns = colNames)\n",
    "\n",
    "combination=[(i, j, k, l) for i in tau for j in seedLoc for k in emergenceDay for l in crossImmu]\n",
    "for i in combination:\n",
    "    tau1=i[0]\n",
    "    seedLoc1=i[1]\n",
    "    emergenceDay1=i[2]\n",
    "    crossImmu1=i[3]\n",
    "    for it in np.arange(repli)+1:\n",
    "        dp=pd.read_csv('/project/bii_nssac/COVID-19_USA_EpiHiper/rivanna/20210827-var_surv/exp7/tau_'+str(tau1)+'_var2_'+str(newVar)+'_seed2p_'+str(seedLoc1)+'_seed2t_'+str(emergenceDay1)+'_cross1by2_'+str('{:.2f}'.format(round(crossImmu1, 2)))+'/replicate_'+str(it)+'/output.csv.gz')\n",
    "        dpSummary=pd.read_csv('/project/bii_nssac/COVID-19_USA_EpiHiper/rivanna/20210827-var_surv/exp7/tau_'+str(tau1)+'_var2_'+str(newVar)+'_seed2p_'+str(seedLoc1)+'_seed2t_'+str(emergenceDay1)+'_cross1by2_'+str('{:.2f}'.format(round(crossImmu1, 2)))+'/replicate_'+str(it)+'/outputSummary.csv.gz')\n",
    "        #print(dpSummary)\n",
    "        nR=len(dp.index)\n",
    "        diseasePropagation = np.zeros((nR, 3),dtype = np.int)\n",
    "        diseasePropagation[:, 0] = dp['tick']\n",
    "        diseasePropagation[:, 1] = dp['pid']\n",
    "        #diseasePropagation[dp['exit_state'] == \"var1E\", 2] = var1E\n",
    "        diseasePropagation[dp['exit_state'] == \"var1Isymp\", 2] = var1Isymp\n",
    "        diseasePropagation[dp['exit_state'] == \"var1Iasymp\", 2] = var1Iasymp\n",
    "        #diseasePropagation[dp['exit_state'] == \"var2E\", 2] = var2E\n",
    "        diseasePropagation[dp['exit_state'] == \"var2Isymp\", 2] = var2Isymp\n",
    "        diseasePropagation[dp['exit_state'] == \"var2Iasymp\", 2] = var2Iasymp\n",
    "        diseasePropagation[dp['exit_state'] == \"var1R\", 2] = var1R\n",
    "        diseasePropagation[dp['exit_state'] == \"var2R\", 2] = var2R\n",
    "        #diseasePropagation[dp['exit_state'] == \"var1var2E\", 2] = var1var2E\n",
    "        #diseasePropagation[dp['exit_state'] == \"var1var2Isymp\", 2] = var1var2Isymp\n",
    "        #diseasePropagation[dp['exit_state'] == \"var1var2Iasymp\", 2] = var1var2Iasymp\n",
    "        #diseasePropagation[dp['exit_state'] == \"var2var1E\", 2] = var2var1E\n",
    "        #diseasePropagation[dp['exit_state'] == \"var2var1Isymp\", 2] = var2var1Isymp\n",
    "        #diseasePropagation[dp['exit_state'] == \"var2var1Iasymp\", 2] = var2var1Iasymp\n",
    "        #diseasePropagation[dp['exit_state'] == \"R\", 2] = R\n",
    "        #print(diseasePropagation)\n",
    "    \n",
    "    \n",
    "        diseasePropagationIndex=np.zeros((day, 2),dtype = np.int)\n",
    "    \n",
    "        diseasePropagationIndex[:,0]=diseasePropagation[:,0].searchsorted(np.arange(day))\n",
    "        diseasePropagationIndex[0:day-1,1]=diseasePropagationIndex[1:day,0]\n",
    "        diseasePropagationIndex[day-1,1]=diseasePropagation[:,0].searchsorted(day)\n",
    "        \n",
    "        V1 = np.zeros((N, 1),dtype = np.int)\n",
    "        V2 = np.zeros((N, 1),dtype = np.int)\n",
    "        nS = np.zeros((N, 1),dtype = np.int)\n",
    "        V1SV1 = np.zeros((N, 1),dtype = np.int)\n",
    "        V2SV1 = np.zeros((N, 1),dtype = np.int)\n",
    "        \n",
    "        V1SV2 = np.zeros((N, 1),dtype = np.int)\n",
    "        V2SV2 = np.zeros((N, 1),dtype = np.int)\n",
    "        \n",
    "        V1SV1prev = np.zeros((N, 1),dtype = np.int)\n",
    "        V2SV1prev = np.zeros((N, 1),dtype = np.int)\n",
    "        \n",
    "        V1SV2prev = np.zeros((N, 1),dtype = np.int)\n",
    "        V2SV2prev = np.zeros((N, 1),dtype = np.int)\n",
    "        \n",
    "        V1SV1sum = np.zeros((day, 1),dtype = np.int)\n",
    "        V2SV1sum = np.zeros((day, 1),dtype = np.int)\n",
    "        \n",
    "        V1SV2sum = np.zeros((day, 1),dtype = np.int)\n",
    "        V2SV2sum = np.zeros((day, 1),dtype = np.int)\n",
    "        \n",
    "        d = 1\n",
    "        while (d <= 400):\n",
    "            #nD1=diseasePropagation[(diseasePropagation[diseasePropagationIndex[d,0]:diseasePropagationIndex[d,1], 2]==var1Isymp)|(diseasePropagation[diseasePropagationIndex[d,0]:diseasePropagationIndex[d,1], 2]==var1Iasymp),1]\n",
    "            V1SV1=V1SV1prev\n",
    "            V1SV2=V1SV1prev\n",
    "            V2SV2=V1SV1prev\n",
    "            V2SV1=V1SV1prev\n",
    "            diseasePropagationDay=diseasePropagation[diseasePropagationIndex[d,0]:diseasePropagationIndex[d,1],:]\n",
    "            #print(diseasePropagationDay)\n",
    "            if len(diseasePropagationDay[(diseasePropagationDay[:,2]==var1Isymp)|(diseasePropagationDay[:,2]==var1Iasymp),1])>0:\n",
    "                diseasePropagationDay1=diseasePropagationDay[(diseasePropagationDay[:,2]==var1Isymp)|(diseasePropagationDay[:,2]==var1Iasymp),:]\n",
    "                #print(diseasePropagationDay1)\n",
    "                #print()\n",
    "                V1SV1[diseasePropagationDay1[(V1[diseasePropagationDay1[:,1]]>V2[diseasePropagationDay1[:,1]]).flatten(),1]]=1\n",
    "                V1SV2[diseasePropagationDay1[(V1[diseasePropagationDay1[:,1]]<V2[diseasePropagationDay1[:,1]]).flatten(),1]]=1\n",
    "                \n",
    "                V1[diseasePropagationDay1[:,1]]=d\n",
    "                \n",
    "            if len(diseasePropagationDay[(diseasePropagationDay[:,2]==var2Isymp)|(diseasePropagationDay[:,2]==var2Iasymp),1])>0:\n",
    "                diseasePropagationDay2=diseasePropagationDay[(diseasePropagationDay[:,2]==var2Isymp)|(diseasePropagationDay[:,2]==var2Iasymp),:]\n",
    "                V2SV1[diseasePropagationDay2[(V1[diseasePropagationDay2[:,1]]>V2[diseasePropagationDay2[:,1]]).flatten(),1]]=1\n",
    "                V2SV2[diseasePropagationDay2[(V1[diseasePropagationDay2[:,1]]<V2[diseasePropagationDay2[:,1]]).flatten(),1]]=1\n",
    "                \n",
    "                V2[diseasePropagationDay2[:,1]]=d\n",
    "            #if (diseasePropagationDay[diseasePropagationDay[:,2]==var1Isymp]):\n",
    "#             for r in np.arange((diseasePropagationIndex[d,1]-diseasePropagationIndex[d,0]))+diseasePropagationIndex[d,0]:\n",
    "#                 if (diseasePropagation[r,2]==var1Isymp)|(diseasePropagation[r,2]==var1Iasymp):\n",
    "                    \n",
    "#                     if (V1[diseasePropagation[r,1]]==0)&(V2[diseasePropagation[r,1]]==0):\n",
    "#                         V1[diseasePropagation[r,1]]=d\n",
    "#                     elif V1[diseasePropagation[r,1]]>V2[diseasePropagation[r,1]]:\n",
    "#                         V1[diseasePropagation[r,1]]=d\n",
    "#                         V1SV1[diseasePropagation[r,1]]=1\n",
    "#                     else:\n",
    "#                         V1[diseasePropagation[r,1]]=d\n",
    "#                         V1SV2[diseasePropagation[r,1]]=1\n",
    "                    \n",
    "#                 if (diseasePropagation[r,2]==var2Isymp)|(diseasePropagation[r,2]==var2Iasymp):\n",
    "#                     if (V1[diseasePropagation[r,1]]==0)&(V2[diseasePropagation[r,1]]==0):\n",
    "#                         V2[diseasePropagation[r,1]]=d\n",
    "#                     elif V1[diseasePropagation[r,1]]>V2[diseasePropagation[r,1]]:\n",
    "#                         V2[diseasePropagation[r,1]]=d\n",
    "#                         V2SV1[diseasePropagation[r,1]]=1\n",
    "#                     else:\n",
    "#                         V2[diseasePropagation[r,1]]=d\n",
    "#                         V2SV2[diseasePropagation[r,1]]=1\n",
    "\n",
    "#                 if (diseasePropagation[r,2]==var1R):\n",
    "#                     V1SV1[diseasePropagation[r,1]]=0\n",
    "#                     V1SV2[diseasePropagation[r,1]]=0\n",
    "#                 if (diseasePropagation[r,2]==var2R):\n",
    "#                     V2SV1[diseasePropagation[r,1]]=0\n",
    "#                     V2SV2[diseasePropagation[r,1]]=0\n",
    "                if len(diseasePropagationDay[(diseasePropagationDay[:,2]==var1R),1])>0:\n",
    "                    V1SV1[diseasePropagationDay[(diseasePropagationDay[:,2]==var1R).flatten()]]=0\n",
    "                    V1SV2[diseasePropagationDay[(diseasePropagationDay[:,2]==var1R).flatten()]]=0\n",
    "                if len(diseasePropagationDay[(diseasePropagationDay[:,2]==var2R),1])>0:\n",
    "                    V2SV1[diseasePropagationDay[(diseasePropagationDay[:,2]==var2R).flatten()]]=0\n",
    "                    V2SV2[diseasePropagationDay[(diseasePropagationDay[:,2]==var2R).flatten()]]=0\n",
    "                \n",
    "                V1SV1prev=V1SV1\n",
    "                V1SV2prev=V1SV2\n",
    "                V2SV1prev=V2SV1\n",
    "                V2SV2prev=V2SV2\n",
    "                \n",
    "                V1SV1sum[d]=V1SV1.sum()\n",
    "                V1SV2sum[d]=V1SV2.sum()\n",
    "                V2SV1sum[d]=V2SV1.sum()\n",
    "                V2SV2sum[d]=V2SV2.sum()\n",
    "                    \n",
    "                \n",
    "            \n",
    "            #print(d)\n",
    "            \n",
    "            d=d+1\n",
    "        \n",
    "        #print(V1SV1row)\n",
    "        it2=np.zeros((len(dpSummary),1),dtype = np.int)\n",
    "        it2=it\n",
    "        dpSummary.insert(4, \"repli\", it2, True)\n",
    "        \n",
    "        tau2=np.zeros((len(dpSummary),1),dtype = np.float)\n",
    "        tau2=tau1\n",
    "        dpSummary.insert(0, \"tau\", tau2, True)\n",
    "        \n",
    "        seedLoc2=np.zeros((len(dpSummary),1),dtype = np.float)\n",
    "        seedLoc2=seedLoc1\n",
    "        dpSummary.insert(1, \"seedLoc\", seedLoc2, True)\n",
    "        \n",
    "        emergenceDay2=np.zeros((len(dpSummary),1),dtype = np.float)\n",
    "        emergenceDay2=emergenceDay1\n",
    "        dpSummary.insert(2, \"emergenceDay\", emergenceDay2, True)\n",
    "        \n",
    "        crossImmu2=np.zeros((len(dpSummary),1),dtype = np.float)\n",
    "        crossImmu2=crossImmu1\n",
    "        dpSummary.insert(3, \"crossImmu\", crossImmu2, True)\n",
    "        \n",
    "        dpSummary.insert(54, \"V1SV1\", V1SV1sum, True)\n",
    "        dpSummary.insert(55, \"V1SV2\", V1SV2sum, True)\n",
    "        dpSummary.insert(56, \"V2SV1\", V2SV1sum, True)\n",
    "        dpSummary.insert(57, \"V2SV2\", V2SV2sum, True)\n",
    "        \n",
    "        #print(dpSummary)\n",
    "        dpSummaryCombine=dpSummaryCombine.append(dpSummary) \n",
    "        #print(it)\n",
    "    #break\n",
    "    print(tau1)\n",
    "f='/project/biocomplexity/biosurveillance/EpiHiper/postProcessing/combineSamplingResult/'+'populationCountPyVVVVExp7'+'.csv'\n",
    "dpSummaryCombine.to_csv(f, encoding='utf-8', index=False)\n",
    "\n",
    "\n",
    "                                                                                                                                    \n",
    "                                                                                                                                     \n",
    "    "
   ]
  },
  {
   "cell_type": "code",
   "execution_count": 21,
   "metadata": {},
   "outputs": [
    {
     "ename": "SyntaxError",
     "evalue": "closing parenthesis ')' does not match opening parenthesis '[' (<ipython-input-21-26f046c026cc>, line 1)",
     "output_type": "error",
     "traceback": [
      "\u001b[0;36m  File \u001b[0;32m\"<ipython-input-21-26f046c026cc>\"\u001b[0;36m, line \u001b[0;32m1\u001b[0m\n\u001b[0;31m    V1SV1[diseasePropagationDay1[(V1[diseasePropagationDay1[:,1]]>V2[diseasePropagationDay1[:,1]).flatten()],1]]\u001b[0m\n\u001b[0m                                                                                                ^\u001b[0m\n\u001b[0;31mSyntaxError\u001b[0m\u001b[0;31m:\u001b[0m closing parenthesis ')' does not match opening parenthesis '['\n"
     ]
    }
   ],
   "source": [
    "V1SV1[diseasePropagationDay1[(V1[diseasePropagationDay1[:,1]]>V2[diseasePropagationDay1[:,1]).flatten()],1]]"
   ]
  },
  {
   "cell_type": "code",
   "execution_count": 22,
   "metadata": {},
   "outputs": [
    {
     "data": {
      "text/plain": [
       "array([], shape=(0, 1), dtype=int64)"
      ]
     },
     "execution_count": 22,
     "metadata": {},
     "output_type": "execute_result"
    }
   ],
   "source": [
    "V1SV1[diseasePropagationDay1[(V1[diseasePropagationDay1[:,1]]>V2[diseasePropagationDay1[:,1]]).flatten(),1]]"
   ]
  },
  {
   "cell_type": "code",
   "execution_count": 23,
   "metadata": {},
   "outputs": [
    {
     "data": {
      "text/plain": [
       "array([0])"
      ]
     },
     "execution_count": 23,
     "metadata": {},
     "output_type": "execute_result"
    }
   ],
   "source": [
    "V1SV1[3525951]"
   ]
  },
  {
   "cell_type": "code",
   "execution_count": 17,
   "metadata": {},
   "outputs": [
    {
     "data": {
      "text/plain": [
       "array([[0]])"
      ]
     },
     "execution_count": 17,
     "metadata": {},
     "output_type": "execute_result"
    }
   ],
   "source": [
    "V1[diseasePropagationDay1[:,1]]"
   ]
  },
  {
   "cell_type": "code",
   "execution_count": 19,
   "metadata": {},
   "outputs": [
    {
     "data": {
      "text/plain": [
       "(7688059, 1)"
      ]
     },
     "execution_count": 19,
     "metadata": {},
     "output_type": "execute_result"
    }
   ],
   "source": [
    "V1.shape"
   ]
  },
  {
   "cell_type": "code",
   "execution_count": null,
   "metadata": {},
   "outputs": [],
   "source": []
  }
 ],
 "metadata": {
  "kernelspec": {
   "display_name": "Python 3.8",
   "language": "python",
   "name": "python-3.8"
  },
  "language_info": {
   "codemirror_mode": {
    "name": "ipython",
    "version": 3
   },
   "file_extension": ".py",
   "mimetype": "text/x-python",
   "name": "python",
   "nbconvert_exporter": "python",
   "pygments_lexer": "ipython3",
   "version": "3.8.8"
  }
 },
 "nbformat": 4,
 "nbformat_minor": 4
}
